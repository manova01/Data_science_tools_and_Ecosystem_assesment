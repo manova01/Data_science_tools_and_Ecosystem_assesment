{
 "cells": [
  {
   "cell_type": "markdown",
   "metadata": {},
   "source": [
    "<center>\n",
    "    <img src=\"https://cf-courses-data.s3.us.cloud-object-storage.appdomain.cloud/IBMDeveloperSkillsNetwork-DS0105EN-SkillsNetwork/labs/Module2/images/SN_web_lightmode.png\" width=\"300\" alt=\"cognitiveclass.ai logo\">\n",
    "</center>\n"
   ]
  },
  {
   "cell_type": "markdown",
   "metadata": {},
   "source": [
    "#### Add your code below following the instructions given in the course\n"
   ]
  },
  {
   "cell_type": "markdown",
   "metadata": {},
   "source": [
    "# Data Science Tools and Ecosystem"
   ]
  },
  {
   "cell_type": "markdown",
   "metadata": {},
   "source": [
    "A set of software, computer languages, libraries, frameworks, and platforms that are frequently used in the field of data science are referred to as data science tools and ecosystems.\" Data scientists can gather, analyze, visualize, and interpret data using these tools and ecosystems in order to gain important insights and come to well-informed judgments. The following are some essential elements of the ecosystems and tools for data science:\n",
    "\n",
    " Python is the most popular programming language in data science because of its adaptability, large library of pre-built functions, and user-friendliness.\n",
    "      R: R is a well-known language that was created primarily for statistical computation and graphics.\n",
    "\n",
    "   NumPy is a Python toolkit for numerical computation that offers strong tools for manipulating arrays and performing mathematical operations. Data manipulation and analysis.\n",
    "        Pandas"
   ]
  },
  {
   "cell_type": "markdown",
   "metadata": {},
   "source": [
    "\n",
    "*Some of the commonly used libraries used by Data Scientists include*\n",
    "\n",
    "Python is the most popular programming language in the data science industry. It provides an enormous ecosystem of libraries and frameworks made especially for manipulating, analyzing, and machine learning data.NumPy, Pandas, Matplotlib, Scikit-learn, and TensorFlow are examples of well-known libraries.\n",
    " R: The computer language R was created primarily for statistical computing and graphics. It offers a large selection of libraries and tools for statistical modeling, data analysis, and visualization. R is particularly well-liked by statisticians and academic scholars.\n",
    "\n",
    " Structured Query Language (SQL), albeit not a conventional programming language, is crucial for data scientists working with relational databases. SQL is essential for obtaining insights from huge datasets since it is utilized for data processing, querying, and aggregation.\n",
    "\n",
    "Julia: Julia is a top-notch, effective individual."
   ]
  },
  {
   "cell_type": "markdown",
   "metadata": {},
   "source": [
    "'|Data Sciencece Tool|'\n",
    "..........................\n",
    "'|Jupyter Notebook|'\n",
    "'|Rstudio|'\n",
    "'|Anaconda|'"
   ]
  },
  {
   "cell_type": "markdown",
   "metadata": {},
   "source": [
    "### Below are a few examples of evaluating arithmetic expressions in Python."
   ]
  },
  {
   "cell_type": "code",
   "execution_count": 1,
   "metadata": {
    "tags": []
   },
   "outputs": [
    {
     "data": {
      "text/plain": [
       "17"
      ]
     },
     "execution_count": 1,
     "metadata": {},
     "output_type": "execute_result"
    }
   ],
   "source": [
    "# This a simple arithmetic expression to mutiply then add integers\n",
    "(3*4)+5"
   ]
  },
  {
   "cell_type": "code",
   "execution_count": 4,
   "metadata": {
    "tags": []
   },
   "outputs": [
    {
     "data": {
      "text/plain": [
       "3.3333333333333335"
      ]
     },
     "execution_count": 4,
     "metadata": {},
     "output_type": "execute_result"
    }
   ],
   "source": [
    "# This will convert 200 minutes to hours by diving by 60\n",
    "minutes = 200\n",
    "hours = minutes/60\n",
    "hours"
   ]
  },
  {
   "cell_type": "markdown",
   "metadata": {},
   "source": [
    "'Objectives'\n",
    "\n",
    "*Python: Python is one of the most widely used programming languages for data science. It has a large number of libraries and tools, such as NumPy, Pandas, Matplotlib, and Scikit-learn, that make it easy to work with data.\n",
    "\n",
    "*MATLAB: MATLAB is a programming language that is commonly used in scientific computing and engineering. It has a wide range of tools and functions for data analysis, visualization, and modeling.\n",
    "\n",
    "*SQL: SQL (Structured Query Language) is a programming language used for managing and manipulating relational databases. It is commonly used in data science for data cleaning and preparation.\n"
   ]
  },
  {
   "cell_type": "markdown",
   "metadata": {},
   "source": [
    "## Author\n",
    "Ochie Chigoziem Robert"
   ]
  },
  {
   "cell_type": "code",
   "execution_count": null,
   "metadata": {},
   "outputs": [],
   "source": []
  }
 ],
 "metadata": {
  "kernelspec": {
   "display_name": "Python",
   "language": "python",
   "name": "conda-env-python-py"
  },
  "language_info": {
   "codemirror_mode": {
    "name": "ipython",
    "version": 3
   },
   "file_extension": ".py",
   "mimetype": "text/x-python",
   "name": "python",
   "nbconvert_exporter": "python",
   "pygments_lexer": "ipython3",
   "version": "3.7.12"
  }
 },
 "nbformat": 4,
 "nbformat_minor": 4
}
